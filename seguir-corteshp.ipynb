{
 "cells": [
  {
   "cell_type": "code",
   "execution_count": null,
   "metadata": {},
   "outputs": [
    {
     "name": "stderr",
     "output_type": "stream",
     "text": [
      "C:\\Users\\Agus\\Anaconda3\\envs\\deforestacion\\lib\\site-packages\\geopandas\\geodataframe.py:455: UserWarning: Boolean Series key will be reindexed to match DataFrame index.\n",
      "  result = super(GeoDataFrame, self).__getitem__(key)\n"
     ]
    }
   ],
   "source": [
    "import shapefile\n",
    "import geopandas as gp\n",
    "import matplotlib.pyplot as plt\n",
    "import rasterio\n",
    "import rasterio.plot\n",
    "from rasterio.mask import mask\n",
    "import pycrs\n",
    "from rasterio.plot import show\n",
    "from rasterio.plot import show_hist\n",
    "import numpy as np\n",
    "import pandas as pd\n",
    "import csv\n",
    "\n",
    "# sf = shapefile.Reader(\"C:/Users/Agus/Desktop/usar_este/incendios.shp\")\n",
    "# sfnqn = shapefile.Reader(\"C:/Users/Agus/Desktop/shp_prov/NQN/clas_mer_BAP_continental_modentr_vf_nqn.shp\")\n",
    "\n",
    "incendios = gp.GeoDataFrame.from_file(\"C:/Users/Agus/Desktop/usar_este/poligono.shp\")\n",
    "provincias = gp.GeoDataFrame.from_file(\"C:/Users/Agus/Desktop/shp_prov/NQN/clas_mer_BAP_continental_modentr_vf_nqn.shp\")\n",
    "\n",
    "incendios[incendios.geometry.intersects(provincias)]\n",
    "poly = provincias.geometry.unary_union\n",
    "test_clip = incendioa[incendios.geometry.intersects(poly)]\n",
    "points_clip = cl.clip_shp(incendios, provincias)\n",
    "\n",
    "\n",
    "fig, ax = plt.subplots(figsize=(12, 8))\n",
    "provincias.plot(alpha=1,\n",
    "                color=\"white\",\n",
    "                edgecolor=\"black\",\n",
    "                ax=ax)\n",
    "incendios.plot(cmap='Greys',\n",
    "               ax=ax,\n",
    "               alpha=.5)\n",
    "points_clip.plot(ax=ax,\n",
    "                 column='name')\n",
    "ax.set_axis_off()\n",
    "plt.axis('equal')\n",
    "\n",
    "\n",
    "\n",
    "# data\n",
    "\n",
    "# for indice, prov in provincias.iterrows():\n",
    "#     for indice2,inc in incendios.iterrows():\n",
    "#         if prov['geometry'].intersects(inc['geometry']):\n",
    "#             data.append({'geometry':prov['geometry'].intersection(inc['geometry']),'id1':indice, 'id2':indice2 , 'Shape_Leng':inc['Shape_Leng'], 'Shape_Area':inc['Shape_Area'], 'fecha':inc['fecha'], 'area_ha':inc['area_ha'], 'Ley_N1':prov['Ley_N1'], 'Ley_N2':prov['Ley_N2'], 'Ley_N3':prov['Ley_N3'], 'PN':prov['PN']})\n",
    "            \n",
    "# print(data)            \n",
    "# prov_inc = gp.GeoDataFrame(data,columns=['geometry','Shape_Leng','Shape_Area','fecha','area_ha','Ley_N1','Ley_N2','Ley_N3','PN'])\n",
    "# #prov_inc.to_file('C:/Users/Agus/Desktop/usar_este/test.shp',driver ='ESRI Shapefile')\n",
    "# prov_inc.to_csv('C:/Users/Agus/Desktop/usar_este/test.csv', header=True, index=True)\n"
   ]
  },
  {
   "cell_type": "code",
   "execution_count": null,
   "metadata": {},
   "outputs": [],
   "source": []
  }
 ],
 "metadata": {
  "kernelspec": {
   "display_name": "Python 3",
   "language": "python",
   "name": "python3"
  },
  "language_info": {
   "codemirror_mode": {
    "name": "ipython",
    "version": 3
   },
   "file_extension": ".py",
   "mimetype": "text/x-python",
   "name": "python",
   "nbconvert_exporter": "python",
   "pygments_lexer": "ipython3",
   "version": "3.6.8"
  }
 },
 "nbformat": 4,
 "nbformat_minor": 2
}
